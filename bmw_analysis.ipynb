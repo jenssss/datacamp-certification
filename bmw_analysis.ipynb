{
 "cells": [
  {
   "cell_type": "markdown",
   "id": "great-sperm",
   "metadata": {},
   "source": [
    "# Objective\n",
    "Predict resale prices of BMW cars."
   ]
  },
  {
   "cell_type": "code",
   "execution_count": null,
   "id": "advanced-strip",
   "metadata": {},
   "outputs": [],
   "source": [
    "import numpy as np\n",
    "import pandas as pd"
   ]
  },
  {
   "cell_type": "markdown",
   "id": "appreciated-joining",
   "metadata": {},
   "source": [
    "# Loading and inspecting data\n",
    "First we load and inspect the data. I downloaded the data from [here](https://raw.githubusercontent.com/datacamp/careerhub-data/master/BMW%20Used%20Car%20Sales/bmw.csv) and saved it in the `datasets/bmw.csv` file."
   ]
  },
  {
   "cell_type": "code",
   "execution_count": null,
   "id": "alternate-selection",
   "metadata": {},
   "outputs": [],
   "source": [
    "bmw = pd.read_csv('datasets/bmw.csv')\n",
    "bmw.head()"
   ]
  },
  {
   "cell_type": "code",
   "execution_count": null,
   "id": "italic-harassment",
   "metadata": {},
   "outputs": [],
   "source": [
    "bmw.info()"
   ]
  },
  {
   "cell_type": "code",
   "execution_count": null,
   "id": "after-clinton",
   "metadata": {},
   "outputs": [],
   "source": [
    "bmw.model.unique()"
   ]
  },
  {
   "cell_type": "code",
   "execution_count": null,
   "id": "forward-integral",
   "metadata": {},
   "outputs": [],
   "source": [
    "bmw.transmission.unique()"
   ]
  },
  {
   "cell_type": "code",
   "execution_count": null,
   "id": "rapid-relative",
   "metadata": {},
   "outputs": [],
   "source": [
    "bmw.fuelType.unique()"
   ]
  },
  {
   "cell_type": "code",
   "execution_count": null,
   "id": "surprised-produce",
   "metadata": {},
   "outputs": [],
   "source": [
    "bmw.describe()"
   ]
  },
  {
   "cell_type": "code",
   "execution_count": null,
   "id": "b214bfdc",
   "metadata": {},
   "outputs": [],
   "source": [
    "for col in bmw:\n",
    "    print(col, len(bmw[col].unique()))"
   ]
  },
  {
   "cell_type": "markdown",
   "id": "b404b932",
   "metadata": {},
   "source": [
    "I reqognize the three columns `model`, `transmission` and `fuelType` as categorical axes, and convert them as such. I could also convert the `year` column to the datetime type, but since I don't need to handle months or days for this analysis, I chose to just keep it as an integer column."
   ]
  },
  {
   "cell_type": "code",
   "execution_count": null,
   "id": "e75f1e7b",
   "metadata": {},
   "outputs": [],
   "source": [
    "categorical_columns= ['model', 'fuelType', 'transmission']\n",
    "bmw_typed = bmw.astype({column: \"category\" for column in categorical_columns})\n",
    "#bmw_typed[\"year\"] = pd.to_datetime(bmw_typed[\"year\"])\n",
    "bmw_typed.info()"
   ]
  },
  {
   "cell_type": "markdown",
   "id": "1f52f512",
   "metadata": {},
   "source": [
    "# Data cleaning\n",
    "Let us take a closer look at the categorical axes. First we print the number of values in each category"
   ]
  },
  {
   "cell_type": "code",
   "execution_count": null,
   "id": "16d0e3f5",
   "metadata": {},
   "outputs": [],
   "source": [
    "def print_categorical_counts(df, columns):\n",
    "    for col in columns:\n",
    "        display(df.groupby(col)[col].count())\n",
    "\n",
    "print_categorical_counts(bmw, categorical_columns)"
   ]
  },
  {
   "cell_type": "markdown",
   "id": "0e8f6b14",
   "metadata": {},
   "source": [
    "There are  have a number of categories with very few records. For instance, the `fuelType` `Electric` has only 3 three records. With such a small amount of observations for this category I wouldn't expect it to be possible to make reliable predictions for the selling price for this category. I therefore choose to drop any category with less than 10 records. "
   ]
  },
  {
   "cell_type": "code",
   "execution_count": null,
   "id": "66b0a8d1",
   "metadata": {},
   "outputs": [],
   "source": [
    "def drop_almost_empty_categories(df, col, nmin=10):\n",
    "    df = df.copy() # To avoid modyfiyng the input dataframe\n",
    "    category_count = df.groupby(col)[col].count()\n",
    "    for category_name, count  in category_count.iteritems():\n",
    "        if count < nmin:\n",
    "            df = df[df[col] != category_name]\n",
    "    return df\n",
    "\n",
    "bmw_dropped = bmw.copy()\n",
    "for col in categorical_columns:\n",
    "    bmw_dropped = drop_almost_empty_categories(bmw_dropped, col)\n",
    "print_categorical_counts(bmw_dropped, categorical_columns)"
   ]
  },
  {
   "cell_type": "markdown",
   "id": "pressing-laundry",
   "metadata": {},
   "source": [
    "# Data exploration"
   ]
  },
  {
   "cell_type": "code",
   "execution_count": null,
   "id": "numerical-power",
   "metadata": {},
   "outputs": [],
   "source": [
    "import seaborn as sns"
   ]
  },
  {
   "cell_type": "code",
   "execution_count": null,
   "id": "467fd664",
   "metadata": {},
   "outputs": [],
   "source": [
    "bmw_copy = bmw_dropped.copy()\n",
    "#bmw_copy['ln mileage'] = np.log(bmw_copy['mileage'])\n",
    "#bmw_copy['-mileage'] = -bmw_copy['mileage']\n",
    "#bmw_copy['10^mileage'] = np.exp(bmw_copy['mileage'])\n",
    "bmw_copy['ln price'] = np.log(bmw_copy['price'])\n",
    "#bmw_copy = bmw_copy.drop('mileage', axis='columns')\n",
    "\n",
    "sns.pairplot(bmw_copy, #hue='transmission', \n",
    "             x_vars=['year', 'mileage',  'tax', 'mpg', 'engineSize'],\n",
    "             #x_vars=['model', 'fuelType', 'transmission', ],\n",
    "             y_vars=['price', 'ln price'], hue='transmission')"
   ]
  },
  {
   "cell_type": "code",
   "execution_count": null,
   "id": "6f7c425d",
   "metadata": {},
   "outputs": [],
   "source": [
    "sns.violinplot(x='transmission', y='price', data=bmw_copy)"
   ]
  },
  {
   "cell_type": "code",
   "execution_count": null,
   "id": "d196e307",
   "metadata": {},
   "outputs": [],
   "source": [
    "sns.violinplot(x='transmission', y='price', data=bmw)"
   ]
  },
  {
   "cell_type": "code",
   "execution_count": null,
   "id": "b1017447",
   "metadata": {},
   "outputs": [],
   "source": [
    "sns.violinplot(hue='transmission', y='price', x='fuelType', data=bmw)"
   ]
  },
  {
   "cell_type": "code",
   "execution_count": null,
   "id": "e70cbc64",
   "metadata": {},
   "outputs": [],
   "source": [
    "sns.countplot(x=\"model\",  data=bmw)"
   ]
  },
  {
   "cell_type": "code",
   "execution_count": null,
   "id": "e4678705",
   "metadata": {},
   "outputs": [],
   "source": [
    "sns.countplot(x=\"fuelType\",  data=bmw)"
   ]
  },
  {
   "cell_type": "code",
   "execution_count": null,
   "id": "dc5eaad9",
   "metadata": {},
   "outputs": [],
   "source": [
    "sns.catplot(x=\"fuelType\", hue=\"transmission\",\n",
    "                data=bmw, kind=\"count\",)"
   ]
  },
  {
   "cell_type": "code",
   "execution_count": null,
   "id": "092aa495",
   "metadata": {},
   "outputs": [],
   "source": [
    "bmw.groupby(\"fuelType\")[\"fuelType\"].count()"
   ]
  },
  {
   "cell_type": "code",
   "execution_count": null,
   "id": "3abcb3de",
   "metadata": {},
   "outputs": [],
   "source": [
    "bmw.groupby(\"model\")[\"model\"].count()"
   ]
  },
  {
   "cell_type": "code",
   "execution_count": null,
   "id": "89fdc3f9",
   "metadata": {},
   "outputs": [],
   "source": [
    "import matplotlib.pyplot as plt\n",
    "plt.figure(figsize=(16, 6))\n",
    "sns.violinplot(y='price', x='model', data=bmw, aspect=2)"
   ]
  },
  {
   "cell_type": "code",
   "execution_count": null,
   "id": "4d1c73c7",
   "metadata": {},
   "outputs": [],
   "source": [
    "bmw[bmw[\"fuelType\"]=='Electric']"
   ]
  },
  {
   "cell_type": "code",
   "execution_count": null,
   "id": "1f930d5d",
   "metadata": {},
   "outputs": [],
   "source": [
    "bmw[bmw[\"fuelType\"]=='Other']"
   ]
  },
  {
   "cell_type": "code",
   "execution_count": null,
   "id": "e846be4e",
   "metadata": {},
   "outputs": [],
   "source": [
    "bmw[bmw[\"mpg\"] > 400]"
   ]
  },
  {
   "cell_type": "code",
   "execution_count": null,
   "id": "fd29ecdf",
   "metadata": {},
   "outputs": [],
   "source": []
  }
 ],
 "metadata": {
  "kernelspec": {
   "display_name": "Python 3",
   "language": "python",
   "name": "python3"
  },
  "language_info": {
   "codemirror_mode": {
    "name": "ipython",
    "version": 3
   },
   "file_extension": ".py",
   "mimetype": "text/x-python",
   "name": "python",
   "nbconvert_exporter": "python",
   "pygments_lexer": "ipython3",
   "version": "3.9.2"
  }
 },
 "nbformat": 4,
 "nbformat_minor": 5
}
