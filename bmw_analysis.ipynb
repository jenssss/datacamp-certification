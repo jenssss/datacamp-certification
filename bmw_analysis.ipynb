{
 "cells": [
  {
   "cell_type": "markdown",
   "id": "great-sperm",
   "metadata": {},
   "source": [
    "# Objective\n",
    "Predict resale prices of BMW cars. This could for instance be used by someone who wants to sell their car, to get an idea about how much it is worth, similar to how Kelley Blue Book works."
   ]
  },
  {
   "cell_type": "markdown",
   "id": "appreciated-joining",
   "metadata": {},
   "source": [
    "# Thinking about the problem\n",
    "From the readme of the dataset available here https://github.com/datacamp/careerhub-data/tree/master/BMW%20Used%20Car%20Sales, one can see that the dataset contains information about price, transmission, mileage, fuel type, road tax, miles per gallon (mpg), and engine size. Upon insepction of the dataset (see below), it turned out to additionally contain the car model and year (I'm assuming this means production year). First I want to describe my initial expectations for the relationships between these quantites, and formulate different levels of complexity for including the data.\n",
    "\n",
    "The five quantites model, year, transmission, fuel type, and engine size collectively describe the car configuration at the time of initial purchase. The quantity milage describes how much the car has been used, and therefore worn since that point. The quantities miles per gallon and road tax should be given based on the new car configuration quantities.\n",
    "\n",
    "I suspect that the price will strongly depend on the mileage and age of the car, and a first simple model could therefore just consider these two variables.\n",
    "\n",
    "An improvement on this would be to include the new car configuration variables. From these in addition to price, mpg and road tax could be inferred.\n",
    "\n",
    "Finally the last two variables, mpg and road tax, can be included. These could affect the resale price of the car, since they would probably influence how much a buyer is willing to pay, but I suspect this connection will be less strong than the connection between the other variables and price.\n",
    "\n",
    "Before any of this though, first I want to take a closer at the data."
   ]
  },
  {
   "cell_type": "code",
   "execution_count": null,
   "id": "1e48eee9",
   "metadata": {},
   "outputs": [],
   "source": [
    "from graphviz import Digraph, Graph\n",
    "dot = Digraph(comment='First data model')\n",
    "dot.node('m', 'mileage')\n",
    "dot.node('p', 'price')\n",
    "dot.edges(['mp'])\n",
    "dot.graph_attr['rankdir'] = 'LR'\n",
    "dot"
   ]
  },
  {
   "cell_type": "code",
   "execution_count": null,
   "id": "77763c61",
   "metadata": {},
   "outputs": [],
   "source": [
    "from itertools import combinations\n",
    "dot = Graph(comment='Data model 2', engine='fdp'\n",
    "           )\n",
    "\n",
    "def draw_new_and_usage_clusters(dot):\n",
    "    new_car_config = ['model', 'transmission', 'fuelType', 'engineSize', 'year']\n",
    "    with dot.subgraph(name='clusterA') as c:\n",
    "        c.attr(style='filled', color='lightgrey', shape='egg')\n",
    "        for node in new_car_config:\n",
    "            c.node(node)\n",
    "        c.node_attr.update(style='filled', color='white')\n",
    "        #for pair in combinations('mtfey', r=2):\n",
    "        #    c.edge(*pair)\n",
    "        #c.edges([('a0', 'a1'), ('a1', 'a2'), ('a2', 'a3')])\n",
    "        c.attr(label='New car configuration')\n",
    "\n",
    "    with dot.subgraph(name='clusterB') as c:\n",
    "        c.attr(style='filled', color='lightgrey')\n",
    "        c.node_attr.update(style='filled', color='white')\n",
    "        c.node('mileage')\n",
    "        c.attr(label='Usage')\n",
    "\n",
    "        \n",
    "draw_new_and_usage_clusters(dot)\n",
    "\n",
    "features = ['price', 'tax', 'mpg']\n",
    "short = 'pag'\n",
    "\n",
    "with dot.subgraph(name='clusterC') as c:\n",
    "    c.attr(style='filled', color='lightgrey')\n",
    "    c.node_attr.update(style='filled', color='white')\n",
    "    for node in features:\n",
    "        c.node(node)\n",
    "    c.attr(label='Predictables')\n",
    "\n",
    "    \n",
    "#for s, feature in zip(short, features):\n",
    "#    dot.node(s, feature)\n",
    "\n",
    "dot.edge('clusterA', 'mpg', dir='forward')\n",
    "dot.edge('clusterA', 'tax', dir='forward', splines='ortho')\n",
    "dot.edge('clusterA', 'price', dir='forward')\n",
    "dot.edge('clusterB', 'price', dir='forward',\n",
    "                            splines='curved')\n",
    "#dot.edge('clusterA', 'clusterC', dir='forward')\n",
    "#dot.edge('clusterB', 'clusterC', dir='forward')\n",
    "dot.graph_attr['rankdir'] = 'LR'\n",
    "#dot.unflatten()\n",
    "dot\n"
   ]
  },
  {
   "cell_type": "code",
   "execution_count": null,
   "id": "753404c4",
   "metadata": {},
   "outputs": [],
   "source": [
    "from itertools import combinations\n",
    "dot = Graph(comment='Data model 3', engine='fdp',\n",
    "           )\n",
    "\n",
    "draw_new_and_usage_clusters(dot)\n",
    "\n",
    "features = ['price', 'tax', 'mpg']\n",
    "short = 'pag'\n",
    "\n",
    "with dot.subgraph(name='clusterC') as c:\n",
    "    c.attr(style='filled', color='lightgrey')\n",
    "    c.node_attr.update(style='filled', color='white')\n",
    "    for node in ['tax', 'mpg']:\n",
    "        c.node(node)\n",
    "    c.attr(label='Others')\n",
    "\n",
    "\n",
    "    \n",
    "dot.edge('clusterA', 'price', dir='forward')\n",
    "dot.edge('clusterB', 'price', dir='forward')\n",
    "dot.edge('clusterC', 'price', dir='forward', color='grey',\n",
    ")\n",
    "#dot.edge('clusterA', 'clusterC', dir='forward')\n",
    "#dot.edge('clusterB', 'clusterC', dir='forward')\n",
    "#dot.graph_attr['rankdir'] = 'LR'\n",
    "\n",
    "dot\n"
   ]
  },
  {
   "cell_type": "markdown",
   "id": "7630ab74",
   "metadata": {},
   "source": [
    "\n",
    "# Loading and inspecting data\n",
    "First I load and inspect the data. I downloaded the data from [here](https://raw.githubusercontent.com/datacamp/careerhub-data/master/BMW%20Used%20Car%20Sales/bmw.csv) and saved it in the `datasets/bmw.csv` file."
   ]
  },
  {
   "cell_type": "code",
   "execution_count": null,
   "id": "advanced-strip",
   "metadata": {},
   "outputs": [],
   "source": [
    "import numpy as np\n",
    "import pandas as pd"
   ]
  },
  {
   "cell_type": "code",
   "execution_count": null,
   "id": "alternate-selection",
   "metadata": {},
   "outputs": [],
   "source": [
    "bmw = pd.read_csv('datasets/bmw.csv')\n",
    "bmw.head()"
   ]
  },
  {
   "cell_type": "code",
   "execution_count": null,
   "id": "italic-harassment",
   "metadata": {},
   "outputs": [],
   "source": [
    "bmw.info()"
   ]
  },
  {
   "cell_type": "code",
   "execution_count": null,
   "id": "after-clinton",
   "metadata": {},
   "outputs": [],
   "source": [
    "bmw.model.unique()"
   ]
  },
  {
   "cell_type": "code",
   "execution_count": null,
   "id": "forward-integral",
   "metadata": {},
   "outputs": [],
   "source": [
    "bmw.transmission.unique()"
   ]
  },
  {
   "cell_type": "code",
   "execution_count": null,
   "id": "rapid-relative",
   "metadata": {},
   "outputs": [],
   "source": [
    "bmw.fuelType.unique()"
   ]
  },
  {
   "cell_type": "code",
   "execution_count": null,
   "id": "surprised-produce",
   "metadata": {},
   "outputs": [],
   "source": [
    "bmw.describe()"
   ]
  },
  {
   "cell_type": "code",
   "execution_count": null,
   "id": "b214bfdc",
   "metadata": {},
   "outputs": [],
   "source": [
    "for col in bmw:\n",
    "    print(col, len(bmw[col].unique()))"
   ]
  },
  {
   "cell_type": "markdown",
   "id": "1f52f512",
   "metadata": {},
   "source": [
    "# Initial data cleaning\n",
    "Let us take a closer look at the categorical axes. First we print the number of values in each category"
   ]
  },
  {
   "cell_type": "code",
   "execution_count": null,
   "id": "16d0e3f5",
   "metadata": {},
   "outputs": [],
   "source": [
    "categorical_columns= ['model', 'fuelType', 'transmission']\n",
    "def print_categorical_counts(df, columns):\n",
    "    for col in columns:\n",
    "        display(df.groupby(col)[col].count())\n",
    "\n",
    "print_categorical_counts(bmw, categorical_columns)"
   ]
  },
  {
   "cell_type": "markdown",
   "id": "0e8f6b14",
   "metadata": {},
   "source": [
    "There are  have a number of categories with very few records. For instance, the `fuelType` `Electric` has only three. With such a small amount of observations for this category, and no obvious relationship with other entries in this category as one naturally has for numeric columns, I wouldn't expect it to be possible to make reliable predictions for the selling price for this category. I therefore choose to drop any category with less than 10 records. "
   ]
  },
  {
   "cell_type": "code",
   "execution_count": null,
   "id": "66b0a8d1",
   "metadata": {},
   "outputs": [],
   "source": [
    "def drop_almost_empty_categories(df, col, nmin=10):\n",
    "    df = df.copy() # To avoid modyfiyng the input dataframe\n",
    "    category_count = df.groupby(col)[col].count()\n",
    "    for category_name, count  in category_count.iteritems():\n",
    "        if count < nmin:\n",
    "            df = df[df[col] != category_name]\n",
    "    return df\n",
    "\n",
    "bmw_dropped = bmw.copy()\n",
    "for col in categorical_columns:\n",
    "    bmw_dropped = drop_almost_empty_categories(bmw_dropped, col)\n",
    "bmw_dropped = bmw_dropped.reindex()\n",
    "#print_categorical_counts(bmw_dropped, categorical_columns)"
   ]
  },
  {
   "cell_type": "code",
   "execution_count": null,
   "id": "9e005dc1",
   "metadata": {},
   "outputs": [],
   "source": [
    "new_car_config_cols = ['model', 'transmission', 'fuelType', 'engineSize']\n",
    "new_car_cols = new_car_config_cols + ['year']"
   ]
  },
  {
   "cell_type": "code",
   "execution_count": null,
   "id": "fbb752bc",
   "metadata": {
    "scrolled": true
   },
   "outputs": [],
   "source": [
    "bmw_dropped[bmw_dropped.engineSize==0].head()"
   ]
  },
  {
   "cell_type": "code",
   "execution_count": null,
   "id": "6d9caed6",
   "metadata": {
    "scrolled": true
   },
   "outputs": [],
   "source": [
    "with pd.option_context('display.max_rows', None):\n",
    "    new_car_grouped = bmw.groupby(new_car_cols)[['tax', 'mpg', 'price']]\n",
    "    display(new_car_grouped.nunique())\n",
    "    #display(bmw.groupby(new_car_config_cols)['tax'].nunique())"
   ]
  },
  {
   "cell_type": "code",
   "execution_count": null,
   "id": "95172c81",
   "metadata": {},
   "outputs": [],
   "source": [
    "choices = (bmw.model==' 1 Series') & (bmw.transmission=='Automatic') & (bmw.fuelType=='Diesel') &(bmw.engineSize==2.0) & (bmw.year==2016)\n",
    "bmw[choices][[\"mileage\", 'tax', 'mpg', 'price']].sort_values('mileage')"
   ]
  },
  {
   "cell_type": "markdown",
   "id": "pressing-laundry",
   "metadata": {},
   "source": [
    "# Data exploration\n",
    "<a id = \"data-exploration\"></a>"
   ]
  },
  {
   "cell_type": "code",
   "execution_count": null,
   "id": "numerical-power",
   "metadata": {},
   "outputs": [],
   "source": [
    "import matplotlib.pyplot as plt\n",
    "import seaborn as sns"
   ]
  },
  {
   "cell_type": "code",
   "execution_count": null,
   "id": "07fa0e54",
   "metadata": {},
   "outputs": [],
   "source": [
    "sns.pairplot(bmw_dropped.sort_values(\"engineSize\"), #hue='transmission', \n",
    "             x_vars=new_car_cols,\n",
    "             y_vars=new_car_cols,)"
   ]
  },
  {
   "cell_type": "markdown",
   "id": "e6fa9780",
   "metadata": {},
   "source": [
    "Let's look at how the price depends on all the continous variables using a pair plot"
   ]
  },
  {
   "cell_type": "code",
   "execution_count": null,
   "id": "467fd664",
   "metadata": {},
   "outputs": [],
   "source": [
    "sns.pairplot(bmw_dropped, #hue='transmission', \n",
    "             x_vars=['price', 'year', 'mileage',  'tax', 'mpg', 'engineSize'],\n",
    "             y_vars=['price'],)"
   ]
  },
  {
   "cell_type": "markdown",
   "id": "91d98820",
   "metadata": {},
   "source": [
    "There appears to be a definite relationship between price and both mileage and year. The relationship looks like at might be expopnential, so let's we look at the logarithm of the price"
   ]
  },
  {
   "cell_type": "code",
   "execution_count": null,
   "id": "56c108e1",
   "metadata": {},
   "outputs": [],
   "source": [
    "bmw_log = bmw_dropped.copy()\n",
    "bmw_log['log price'] = np.log10(bmw_log['price'])\n",
    "bmw_log = bmw_log.drop('price', axis='columns')\n",
    "\n",
    "sns.pairplot(bmw_log, #hue='transmission', \n",
    "             x_vars=['log price', 'year', 'mileage',  'tax', 'mpg', 'engineSize'],\n",
    "             y_vars=['log price']) #, hue='transmission')"
   ]
  },
  {
   "cell_type": "markdown",
   "id": "766cf4a8",
   "metadata": {},
   "source": [
    "These plots reveal that there appears to be a linear relationship between the logarithm of the price, and both year and mileage. There is no obvious relationship between the price and the remaining variables, whether we consider logarithm or not. Going forward in the analysis, we will be using the logarithm of the price as the target variable."
   ]
  },
  {
   "cell_type": "code",
   "execution_count": null,
   "id": "89fdc3f9",
   "metadata": {},
   "outputs": [],
   "source": [
    "plt.figure(figsize=(16, 6))\n",
    "sns.violinplot(y='price', x='model', data=bmw_dropped, aspect=2)"
   ]
  },
  {
   "cell_type": "markdown",
   "id": "adadddcd",
   "metadata": {},
   "source": [
    "## A bit more data cleaning"
   ]
  },
  {
   "cell_type": "markdown",
   "id": "0b46d663",
   "metadata": {},
   "source": [
    "From the plots we can see that `mpg` has a group of values near 400, far from the nearest values which are less than 200. Let's see how many different values  are present there"
   ]
  },
  {
   "cell_type": "code",
   "execution_count": null,
   "id": "023dfd14",
   "metadata": {},
   "outputs": [],
   "source": [
    "bmw_dropped[bmw_dropped[\"mpg\"]>400][\"mpg\"].unique()"
   ]
  },
  {
   "cell_type": "markdown",
   "id": "4aac1c16",
   "metadata": {},
   "source": [
    "All the values of `mpg` in the group near 400 have the same value. This looks very suspicious. I suspect this is data is wrong, and since it could seriously skew a model since it has such high values, I should eliminate these values (either impute with e.g. average, or drop the records all together).\n",
    "\n",
    "Let's also check the remaining two continous variables"
   ]
  },
  {
   "cell_type": "code",
   "execution_count": null,
   "id": "e0f454d0",
   "metadata": {},
   "outputs": [],
   "source": [
    "#display(sorted(bmw_dropped[\"engineSize\"].unique()))\n",
    "display(bmw_dropped.groupby(\"engineSize\")[\"engineSize\"].count())\n",
    "bmw_dropped.groupby(\"tax\")[\"tax\"].count()"
   ]
  },
  {
   "cell_type": "markdown",
   "id": "22d66066",
   "metadata": {},
   "source": [
    "They both contain zeros, which seems weird for both tax and engine size. The skewing effect is probably less then for the `mpg` outliers, since zero is closer to other values of tax and engine size, but I should still either impute or drop these records."
   ]
  },
  {
   "cell_type": "code",
   "execution_count": null,
   "id": "ed43e076",
   "metadata": {},
   "outputs": [],
   "source": [
    "to_be_dropped = (bmw_log.mpg>400) | (bmw_log.engineSize==0) | (bmw_log.tax==0)\n",
    "bmw_cleaned = bmw_log[~to_be_dropped]\n",
    "#bmw_cleaned = bmw_log\n",
    "#bmw_cleaned.info()"
   ]
  },
  {
   "cell_type": "markdown",
   "id": "cd8ff178",
   "metadata": {},
   "source": [
    "# Regression models\n",
    "Here I train models on the data."
   ]
  },
  {
   "cell_type": "markdown",
   "id": "eafe21ae",
   "metadata": {},
   "source": [
    "## Linear regression models\n",
    "For the first model, I only want to consider the dependency of price on build year and mileage. From the plots in the [data exploration](#data-exploration) section we see that the logarithm of the price appears to depend linearly on year and mileage."
   ]
  },
  {
   "cell_type": "code",
   "execution_count": null,
   "id": "7b0625f4",
   "metadata": {},
   "outputs": [],
   "source": [
    "from sklearn.linear_model import LinearRegression\n",
    "from sklearn.model_selection import train_test_split\n",
    "from sklearn.metrics import mean_squared_error, r2_score\n",
    "from sklearn.preprocessing import StandardScaler\n",
    "\n",
    "def split_dependent(df, dependent=\"log price\"):\n",
    "    other_cols = [col for col in df.columns if col != dependent]\n",
    "    return df[other_cols], df[dependent]\n",
    "\n",
    "def fit_and_test_linear_model(bmw_selected, **kwargs):\n",
    "\n",
    "    linreg = LinearRegression()\n",
    "    features, linreg = fit_and_test_model(bmw_selected, linreg, **kwargs)\n",
    "    #print(features)\n",
    "    print_linear_coeffs(features, linreg)\n",
    "    return linreg\n",
    "\n",
    "def print_linear_coeffs(features, linreg):\n",
    "    coeffs = pd.DataFrame({\"observable\": features, \"coef\": linreg.coef_, \"10^coef\": np.power(10, linreg.coef_)})\n",
    "    coeffs = coeffs.sort_values(\"coef\", key=np.abs, ascending=False)\n",
    "    display(coeffs.set_index(\"observable\"))\n",
    "\n",
    "def normalize_df(df,\n",
    "                 columns=['year'],\n",
    "                 #columns=['year', 'mileage', 'tax', 'mpg', 'engineSize']\n",
    "                ):\n",
    "    columns = [col for col in columns\n",
    "                if col in df.columns]\n",
    "    columns = [col for col in df.columns\n",
    "                if col == 'log price']\n",
    "    df = df.copy()\n",
    "    if columns:\n",
    "        #print(df)\n",
    "        df_normed = pd.DataFrame(data=StandardScaler().fit_transform(df[columns].values),\n",
    "                              index=df.index,\n",
    "                              columns=columns)\n",
    "        for col in columns:\n",
    "            df[col] = df_normed[col]\n",
    "        #print(df)\n",
    "    return df\n",
    "\n",
    "def fit_and_test_model(bmw_selected, model, dependent='log price', plot_test=False):\n",
    "\n",
    "    #bmw_selected = normalize_df(bmw_selected)\n",
    "    bmw_train, bmw_test = train_test_split(bmw_selected, test_size=0.2, random_state=42)\n",
    "\n",
    "    X_train, y_train = split_dependent(bmw_train, dependent=dependent)\n",
    "    X_test, y_test = split_dependent(bmw_test, dependent=dependent)\n",
    "    #X_train = normalize_df(X_train)\n",
    "    #X_test = normalize_df(X_test)\n",
    "\n",
    "    model.fit(X_train, y_train)\n",
    "\n",
    "    y_predict_train = model.predict(X_train)\n",
    "    y_predict = model.predict(X_test)\n",
    "\n",
    "    print('Mean squared error, test: {:.2g}, train: {:.2g}'\n",
    "          .format(mean_squared_error(y_predict, y_test), mean_squared_error(y_predict_train, y_train)))\n",
    "    print('R^2 coefficient, test: {:.2f}, train: {:.2f}'.format(r2_score(y_predict, y_test), r2_score(y_predict_train, y_train)))\n",
    "    if plot_test:\n",
    "        sns.scatterplot(x=y_test, y=y_predict, alpha=0.5)\n",
    "        plt.show()\n",
    "    return X_test.columns, model\n"
   ]
  },
  {
   "cell_type": "code",
   "execution_count": null,
   "id": "8df8833d",
   "metadata": {
    "scrolled": false
   },
   "outputs": [],
   "source": [
    "bmw_selected = bmw_cleaned[[\"log price\", \"mileage\"]]\n",
    "fit_and_test_linear_model(bmw_selected)"
   ]
  },
  {
   "cell_type": "code",
   "execution_count": null,
   "id": "1ed80fd0",
   "metadata": {},
   "outputs": [],
   "source": [
    "bmw_selected = bmw_cleaned[[\"log price\", \"year\"]]\n",
    "fit_and_test_linear_model(bmw_selected)"
   ]
  },
  {
   "cell_type": "code",
   "execution_count": null,
   "id": "314f6d94",
   "metadata": {},
   "outputs": [],
   "source": [
    "bmw_selected = bmw_cleaned[[\"log price\", \"year\", \"mileage\"]]\n",
    "fit_and_test_linear_model(bmw_selected, plot_test=True)"
   ]
  },
  {
   "cell_type": "code",
   "execution_count": null,
   "id": "cae4cfc2",
   "metadata": {
    "scrolled": false
   },
   "outputs": [],
   "source": [
    "bmw_selected = bmw_cleaned[[\"log price\", \"mileage\"] + new_car_cols]\n",
    "bmw_selected = pd.get_dummies(bmw_selected, drop_first=True\n",
    "                             )\n",
    "fit_and_test_linear_model(bmw_selected, plot_test=True)"
   ]
  },
  {
   "cell_type": "code",
   "execution_count": null,
   "id": "a6d6ccad",
   "metadata": {},
   "outputs": [],
   "source": [
    "bmw_selected = pd.get_dummies(bmw_log, drop_first=True)\n",
    "fit_and_test_linear_model(bmw_selected)"
   ]
  },
  {
   "cell_type": "code",
   "execution_count": null,
   "id": "42433d48",
   "metadata": {},
   "outputs": [],
   "source": [
    "from sklearn.linear_model import Lasso\n",
    "lasso = Lasso(alpha=0.0001)\n",
    "bmw_selected = bmw_cleaned[[\"log price\", \"mileage\"] + new_car_cols]\n",
    "bmw_selected = pd.get_dummies(bmw_selected, drop_first=True)\n",
    "features, linreg = fit_and_test_model(bmw_selected, lasso)\n",
    "print_linear_coeffs(features, linreg)"
   ]
  },
  {
   "cell_type": "markdown",
   "id": "e78af1be",
   "metadata": {},
   "source": [
    "## Tree regression"
   ]
  },
  {
   "cell_type": "code",
   "execution_count": null,
   "id": "7b666dda",
   "metadata": {},
   "outputs": [],
   "source": [
    "from sklearn.ensemble import GradientBoostingRegressor\n",
    "gbr = GradientBoostingRegressor()\n",
    "bmw_selected = bmw_cleaned[[\"log price\", \"mileage\"] + new_car_cols]\n",
    "bmw_selected = pd.get_dummies(bmw_selected, drop_first=True)\n",
    "fit_and_test_model(bmw_selected, gbr)"
   ]
  },
  {
   "cell_type": "code",
   "execution_count": null,
   "id": "be30d144",
   "metadata": {},
   "outputs": [],
   "source": [
    "from sklearn.ensemble import RandomForestRegressor\n",
    "rfr = RandomForestRegressor()\n",
    "bmw_selected = bmw_cleaned[[\"log price\", \"mileage\"] + new_car_cols]\n",
    "bmw_selected = pd.get_dummies(bmw_selected, drop_first=True)\n",
    "fit_and_test_model(bmw_selected, rfr, plot_test=True)"
   ]
  },
  {
   "cell_type": "code",
   "execution_count": null,
   "id": "90423a6b",
   "metadata": {},
   "outputs": [],
   "source": []
  }
 ],
 "metadata": {
  "kernelspec": {
   "display_name": "Python 3",
   "language": "python",
   "name": "python3"
  },
  "language_info": {
   "codemirror_mode": {
    "name": "ipython",
    "version": 3
   },
   "file_extension": ".py",
   "mimetype": "text/x-python",
   "name": "python",
   "nbconvert_exporter": "python",
   "pygments_lexer": "ipython3",
   "version": "3.9.2"
  }
 },
 "nbformat": 4,
 "nbformat_minor": 5
}
