{
 "cells": [
  {
   "cell_type": "markdown",
   "id": "great-sperm",
   "metadata": {},
   "source": [
    "# Objective\n",
    "Predict resale prices of BMW cars. This could for instance be used by someone who wants to sell their car, to get an idea about how much it is worth, similar to how Kelley Blue Book works."
   ]
  },
  {
   "cell_type": "markdown",
   "id": "appreciated-joining",
   "metadata": {},
   "source": [
    "# Thinking about the problem\n",
    "From the readme of the dataset available here https://github.com/datacamp/careerhub-data/tree/master/BMW%20Used%20Car%20Sales, one can see that the dataset contains information about price, transmission, mileage, fuel type, road tax, miles per gallon (mpg), and engine size. Upon insepction of the dataset (see below), it turned out to additionally contain the car model and year (I'm assuming this means production year). First I want to describe my initial expectations for the relationships between these quantites, and formulate different levels of complexity for including the data.\n",
    "\n",
    "The five quantites model, year, transmission, fuel type, and engine size collectively describe the car configuration at the time of initial purchase. The quantity milage describes how much the car has been used, and therefore worn since that point. The quantities miles per gallon and road tax should be given based on the new car configuration quantities.\n",
    "\n",
    "I suspect that the price will strongly depend on the mileage and age of the car, and a first simple model could therefore just consider these two variables.\n",
    "\n",
    "An improvement on this would be to include the new car configuration variables. From these in addition to price, mpg and road tax could be inferred.\n",
    "\n",
    "Finally the last two variables, mpg and road tax, can be included. These could affect the resale price of the car, since they would probably influence how much a buyer is willing to pay, but I suspect this connection will be less strong than the connection between the other variables and price.\n",
    "\n",
    "Before any of this though, first I want to take a closer at the data."
   ]
  },
  {
   "cell_type": "code",
   "execution_count": null,
   "id": "16b7744e",
   "metadata": {},
   "outputs": [],
   "source": [
    "from diagrams import Diagram\n",
    "from diagrams.aws.compute import EC2\n",
    "from diagrams.aws.database import RDS\n",
    "from diagrams.aws.network import ELB\n",
    "from diagrams.custom import Custom\n",
    "\n",
    "with Diagram(\"Web Service\", show=False) as diag:\n",
    "    Custom(\"mpg\", None) >> Custom(\"engine size\", None)\n",
    "\n",
    "diag"
   ]
  },
  {
   "cell_type": "code",
   "execution_count": null,
   "id": "1e48eee9",
   "metadata": {},
   "outputs": [],
   "source": [
    "from graphviz import Digraph, Graph\n",
    "dot = Digraph(comment='First data model')\n",
    "dot.node('m', 'mileage')\n",
    "dot.node('p', 'price')\n",
    "dot.edges(['mp'])\n",
    "dot.graph_attr['rankdir'] = 'LR'\n",
    "dot"
   ]
  },
  {
   "cell_type": "code",
   "execution_count": null,
   "id": "77763c61",
   "metadata": {},
   "outputs": [],
   "source": [
    "from itertools import combinations\n",
    "dot = Graph(comment='Data model 2', engine='fdp'\n",
    "           )\n",
    "\n",
    "def draw_new_and_usage_clusters(dot):\n",
    "    new_car_config = ['model', 'transmission', 'fuelType', 'engineSize', 'year']\n",
    "    with dot.subgraph(name='clusterA') as c:\n",
    "        c.attr(style='filled', color='lightgrey', shape='egg')\n",
    "        for node in new_car_config:\n",
    "            c.node(node)\n",
    "        c.node_attr.update(style='filled', color='white')\n",
    "        #for pair in combinations('mtfey', r=2):\n",
    "        #    c.edge(*pair)\n",
    "        #c.edges([('a0', 'a1'), ('a1', 'a2'), ('a2', 'a3')])\n",
    "        c.attr(label='New car configuration')\n",
    "\n",
    "    with dot.subgraph(name='clusterB') as c:\n",
    "        c.attr(style='filled', color='lightgrey')\n",
    "        c.node_attr.update(style='filled', color='white')\n",
    "        c.node('mileage')\n",
    "        c.attr(label='Usage')\n",
    "\n",
    "        \n",
    "draw_new_and_usage_clusters(dot)\n",
    "\n",
    "features = ['price', 'tax', 'mpg']\n",
    "short = 'pag'\n",
    "\n",
    "with dot.subgraph(name='clusterC') as c:\n",
    "    c.attr(style='filled', color='lightgrey')\n",
    "    c.node_attr.update(style='filled', color='white')\n",
    "    for node in features:\n",
    "        c.node(node)\n",
    "    c.attr(label='Predictables')\n",
    "\n",
    "    \n",
    "#for s, feature in zip(short, features):\n",
    "#    dot.node(s, feature)\n",
    "\n",
    "dot.edge('clusterA', 'mpg', dir='forward')\n",
    "dot.edge('clusterA', 'tax', dir='forward', splines='ortho')\n",
    "dot.edge('clusterA', 'price', dir='forward')\n",
    "dot.edge('clusterB', 'price', dir='forward',\n",
    "                            splines='curved')\n",
    "#dot.edge('clusterA', 'clusterC', dir='forward')\n",
    "#dot.edge('clusterB', 'clusterC', dir='forward')\n",
    "dot.graph_attr['rankdir'] = 'LR'\n",
    "#dot.unflatten()\n",
    "dot\n"
   ]
  },
  {
   "cell_type": "code",
   "execution_count": null,
   "id": "753404c4",
   "metadata": {},
   "outputs": [],
   "source": [
    "from itertools import combinations\n",
    "dot = Graph(comment='Data model 3', engine='fdp',\n",
    "           )\n",
    "\n",
    "draw_new_and_usage_clusters(dot)\n",
    "\n",
    "features = ['price', 'tax', 'mpg']\n",
    "short = 'pag'\n",
    "\n",
    "with dot.subgraph(name='clusterC') as c:\n",
    "    c.attr(style='filled', color='lightgrey')\n",
    "    c.node_attr.update(style='filled', color='white')\n",
    "    for node in ['tax', 'mpg']:\n",
    "        c.node(node)\n",
    "    c.attr(label='Others')\n",
    "\n",
    "\n",
    "    \n",
    "dot.edge('clusterA', 'price', dir='forward')\n",
    "dot.edge('clusterB', 'price', dir='forward')\n",
    "dot.edge('clusterC', 'price', dir='forward', color='grey',\n",
    ")\n",
    "#dot.edge('clusterA', 'clusterC', dir='forward')\n",
    "#dot.edge('clusterB', 'clusterC', dir='forward')\n",
    "#dot.graph_attr['rankdir'] = 'LR'\n",
    "\n",
    "dot\n"
   ]
  },
  {
   "cell_type": "markdown",
   "id": "7630ab74",
   "metadata": {},
   "source": [
    "\n",
    "# Loading and inspecting data\n",
    "First I load and inspect the data. I downloaded the data from [here](https://raw.githubusercontent.com/datacamp/careerhub-data/master/BMW%20Used%20Car%20Sales/bmw.csv) and saved it in the `datasets/bmw.csv` file."
   ]
  },
  {
   "cell_type": "code",
   "execution_count": null,
   "id": "advanced-strip",
   "metadata": {},
   "outputs": [],
   "source": [
    "import numpy as np\n",
    "import pandas as pd"
   ]
  },
  {
   "cell_type": "code",
   "execution_count": null,
   "id": "alternate-selection",
   "metadata": {},
   "outputs": [],
   "source": [
    "bmw = pd.read_csv('datasets/bmw.csv')\n",
    "bmw.head()"
   ]
  },
  {
   "cell_type": "code",
   "execution_count": null,
   "id": "italic-harassment",
   "metadata": {},
   "outputs": [],
   "source": [
    "bmw.info()"
   ]
  },
  {
   "cell_type": "code",
   "execution_count": null,
   "id": "after-clinton",
   "metadata": {},
   "outputs": [],
   "source": [
    "bmw.model.unique()"
   ]
  },
  {
   "cell_type": "code",
   "execution_count": null,
   "id": "forward-integral",
   "metadata": {},
   "outputs": [],
   "source": [
    "bmw.transmission.unique()"
   ]
  },
  {
   "cell_type": "code",
   "execution_count": null,
   "id": "rapid-relative",
   "metadata": {},
   "outputs": [],
   "source": [
    "bmw.fuelType.unique()"
   ]
  },
  {
   "cell_type": "code",
   "execution_count": null,
   "id": "surprised-produce",
   "metadata": {},
   "outputs": [],
   "source": [
    "bmw.describe()"
   ]
  },
  {
   "cell_type": "code",
   "execution_count": null,
   "id": "b214bfdc",
   "metadata": {},
   "outputs": [],
   "source": [
    "for col in bmw:\n",
    "    print(col, len(bmw[col].unique()))"
   ]
  },
  {
   "cell_type": "markdown",
   "id": "1f52f512",
   "metadata": {},
   "source": [
    "# Data cleaning\n",
    "Let us take a closer look at the categorical axes. First we print the number of values in each category"
   ]
  },
  {
   "cell_type": "code",
   "execution_count": null,
   "id": "16d0e3f5",
   "metadata": {},
   "outputs": [],
   "source": [
    "categorical_columns= ['model', 'fuelType', 'transmission']\n",
    "def print_categorical_counts(df, columns):\n",
    "    for col in columns:\n",
    "        display(df.groupby(col)[col].count())\n",
    "\n",
    "print_categorical_counts(bmw, categorical_columns)"
   ]
  },
  {
   "cell_type": "markdown",
   "id": "0e8f6b14",
   "metadata": {},
   "source": [
    "There are  have a number of categories with very few records. For instance, the `fuelType` `Electric` has only three. With such a small amount of observations for this category, and no obvious relationship with other entries in this category as one naturally has for numeric columns, I wouldn't expect it to be possible to make reliable predictions for the selling price for this category. I therefore choose to drop any category with less than 10 records. "
   ]
  },
  {
   "cell_type": "code",
   "execution_count": null,
   "id": "66b0a8d1",
   "metadata": {},
   "outputs": [],
   "source": [
    "def drop_almost_empty_categories(df, col, nmin=10):\n",
    "    df = df.copy() # To avoid modyfiyng the input dataframe\n",
    "    category_count = df.groupby(col)[col].count()\n",
    "    for category_name, count  in category_count.iteritems():\n",
    "        if count < nmin:\n",
    "            df = df[df[col] != category_name]\n",
    "    return df\n",
    "\n",
    "bmw_dropped = bmw.copy()\n",
    "for col in categorical_columns:\n",
    "    bmw_dropped = drop_almost_empty_categories(bmw_dropped, col)\n",
    "#print_categorical_counts(bmw_dropped, categorical_columns)"
   ]
  },
  {
   "cell_type": "code",
   "execution_count": null,
   "id": "9e005dc1",
   "metadata": {},
   "outputs": [],
   "source": [
    "new_car_config_cols = ['model', 'transmission', 'fuelType', 'engineSize']\n",
    "new_car_cols = new_car_config_cols + ['year']"
   ]
  },
  {
   "cell_type": "code",
   "execution_count": null,
   "id": "fbb752bc",
   "metadata": {
    "scrolled": true
   },
   "outputs": [],
   "source": [
    "bmw_dropped[bmw_dropped.engineSize==0].head()"
   ]
  },
  {
   "cell_type": "code",
   "execution_count": null,
   "id": "6d9caed6",
   "metadata": {
    "scrolled": true
   },
   "outputs": [],
   "source": [
    "with pd.option_context('display.max_rows', None):\n",
    "    new_car_grouped = bmw.groupby(new_car_cols)[['tax', 'mpg', 'price']]\n",
    "    display(new_car_grouped.nunique())\n",
    "    #display(bmw.groupby(new_car_config_cols)['tax'].nunique())"
   ]
  },
  {
   "cell_type": "code",
   "execution_count": null,
   "id": "95172c81",
   "metadata": {},
   "outputs": [],
   "source": [
    "choices = (bmw.model==' 1 Series') & (bmw.transmission=='Automatic') & (bmw.fuelType=='Diesel') &(bmw.engineSize==2.0) & (bmw.year==2016)\n",
    "bmw[choices][[\"mileage\", 'tax', 'mpg', 'price']].sort_values('mileage')"
   ]
  },
  {
   "cell_type": "markdown",
   "id": "pressing-laundry",
   "metadata": {},
   "source": [
    "# Data exploration\n",
    "<a id = \"data-exploration\"></a>"
   ]
  },
  {
   "cell_type": "code",
   "execution_count": null,
   "id": "numerical-power",
   "metadata": {},
   "outputs": [],
   "source": [
    "import matplotlib.pyplot as plt\n",
    "import seaborn as sns"
   ]
  },
  {
   "cell_type": "code",
   "execution_count": null,
   "id": "07fa0e54",
   "metadata": {},
   "outputs": [],
   "source": [
    "sns.pairplot(bmw_dropped.sort_values(\"engineSize\"), #hue='transmission', \n",
    "             x_vars=new_car_cols,\n",
    "             y_vars=new_car_cols,)"
   ]
  },
  {
   "cell_type": "code",
   "execution_count": null,
   "id": "467fd664",
   "metadata": {},
   "outputs": [],
   "source": [
    "sns.pairplot(bmw_dropped, #hue='transmission', \n",
    "             x_vars=['price', 'year', 'mileage',  'tax', 'mpg', 'engineSize'],\n",
    "             y_vars=['price'],)"
   ]
  },
  {
   "cell_type": "code",
   "execution_count": null,
   "id": "56c108e1",
   "metadata": {},
   "outputs": [],
   "source": [
    "bmw_copy = bmw_dropped.copy()\n",
    "#bmw_copy['ln mileage'] = np.log(bmw_copy['mileage'])\n",
    "#bmw_copy['-mileage'] = -bmw_copy['mileage']\n",
    "#bmw_copy['10^mileage'] = np.exp(bmw_copy['mileage'])\n",
    "bmw_copy['ln price'] = np.log(bmw_copy['price'])\n",
    "bmw_copy = bmw_copy.drop('price', axis='columns')\n",
    "#bmw_copy = bmw_copy.drop('mileage', axis='columns')\n",
    "\n",
    "sns.pairplot(bmw_copy, #hue='transmission', \n",
    "             x_vars=['ln price', 'year', 'mileage',  'tax', 'mpg', 'engineSize'],\n",
    "             y_vars=['ln price']) #, hue='transmission')"
   ]
  },
  {
   "cell_type": "code",
   "execution_count": null,
   "id": "0311b3f5",
   "metadata": {},
   "outputs": [],
   "source": [
    "bmw_copy.corr()"
   ]
  },
  {
   "cell_type": "code",
   "execution_count": null,
   "id": "2a968208",
   "metadata": {},
   "outputs": [],
   "source": [
    "fig, axes = plt.subplots(1, 2, figsize=[16, 4])\n",
    "sns.kdeplot(x='price', data=bmw_copy, ax=axes[0])\n",
    "sns.kdeplot(x='ln price', data=bmw_copy, ax=axes[1])"
   ]
  },
  {
   "cell_type": "code",
   "execution_count": null,
   "id": "89fdc3f9",
   "metadata": {},
   "outputs": [],
   "source": [
    "plt.figure(figsize=(16, 6))\n",
    "sns.violinplot(y='price', x='model', data=bmw_dropped, aspect=2)"
   ]
  },
  {
   "cell_type": "markdown",
   "id": "adadddcd",
   "metadata": {},
   "source": [
    "## A bit more data cleaning"
   ]
  },
  {
   "cell_type": "code",
   "execution_count": null,
   "id": "e846be4e",
   "metadata": {
    "scrolled": true
   },
   "outputs": [],
   "source": [
    "bmw[bmw[\"mpg\"] > 400]"
   ]
  },
  {
   "cell_type": "code",
   "execution_count": null,
   "id": "bead2189",
   "metadata": {},
   "outputs": [],
   "source": [
    "bmw[bmw[\"tax\"] <= 0]"
   ]
  },
  {
   "cell_type": "code",
   "execution_count": null,
   "id": "986449d4",
   "metadata": {},
   "outputs": [],
   "source": [
    "bmw[bmw[\"fuelType\"]=='Hybrid'].groupby(\"mpg\")[\"mpg\"].count()"
   ]
  },
  {
   "cell_type": "markdown",
   "id": "0b46d663",
   "metadata": {},
   "source": [
    "From the plots we can see that `mpg` has a group of values near 400, far from the nearest values who are less than 200. Let's see how many different values  are present there"
   ]
  },
  {
   "cell_type": "code",
   "execution_count": null,
   "id": "023dfd14",
   "metadata": {},
   "outputs": [],
   "source": [
    "bmw_dropped[bmw_dropped[\"mpg\"]>400][\"mpg\"].unique()"
   ]
  },
  {
   "cell_type": "markdown",
   "id": "4aac1c16",
   "metadata": {},
   "source": [
    "All the values of `mpg` in the group near 400 have the same value. This looks very suspicious. I suspect this is data is wrong, and since it could seriously skew a model since it has such high values, I should eliminate these values (either impute with e.g. average, or drop the records all together).\n",
    "\n",
    "Let's also check the remaining two continous variables"
   ]
  },
  {
   "cell_type": "code",
   "execution_count": null,
   "id": "e0f454d0",
   "metadata": {},
   "outputs": [],
   "source": [
    "#display(sorted(bmw_dropped[\"engineSize\"].unique()))\n",
    "display(bmw_dropped.groupby(\"engineSize\")[\"engineSize\"].count())\n",
    "bmw_dropped.groupby(\"tax\")[\"tax\"].count()"
   ]
  },
  {
   "cell_type": "markdown",
   "id": "22d66066",
   "metadata": {},
   "source": [
    "They both contain zeros, which seems weird for both tax and engine size. The skewing effect is probably less then for the `mpg` outliers, since zero is closer to other values of tax and engine size, but I should still either impute or drop these records."
   ]
  },
  {
   "cell_type": "markdown",
   "id": "eafe21ae",
   "metadata": {},
   "source": [
    "# Linear regression model 1\n",
    "For the first model, I only want to consider the dependency of price on build year and mileage. From the plots in the [data exploration](#data-exploration) section we see that the logarithm of the price appears to depend linearly on year and mileage."
   ]
  },
  {
   "cell_type": "code",
   "execution_count": null,
   "id": "7b0625f4",
   "metadata": {},
   "outputs": [],
   "source": [
    "from sklearn.linear_model import LinearRegression\n",
    "from sklearn.model_selection import train_test_split\n",
    "from sklearn.metrics import mean_squared_error, r2_score\n",
    "\n",
    "def split_dependent(df, dependent=\"ln price\"):\n",
    "    other_cols = [col for col in df.columns if col != dependent]\n",
    "    return df[other_cols], df[dependent]\n",
    "\n",
    "def fit_and_test_linear_model(bmw_selected):\n",
    "\n",
    "    linreg = LinearRegression()\n",
    "    features, linreg = fit_and_test_model(bmw_selected, linreg)\n",
    "    #print(features)\n",
    "    coeffs = pd.DataFrame({\"observable\": features, \"coef\": linreg.coef_, \"exp coef\": np.exp(linreg.coef_)})\n",
    "    display(coeffs.set_index(\"observable\"))\n",
    "\n",
    "    # Plot outputs\n",
    "    #print(X_test)\n",
    "    #plt.scatter(X_test[\"mileage\"], price_test,  color='black')\n",
    "    #plt.plot(X_test[\"mileage\"], price_predict, color='blue', linewidth=3)\n",
    "    #sns.scatterplot(x=X_test[\"mileage\"], y=price_test, alpha=0.5)\n",
    "    #sns.lineplot(x=X_test[\"mileage\"], y=price_predict, alpha=0.5, color='red')\n",
    "    #sns.scatterplot(x=price_test, y=price_predict, alpha=0.5)\n",
    "\n",
    "    #plt.show()\n",
    "    return linreg\n",
    "\n",
    "def fit_and_test_model(bmw_selected, model, dependent='ln price'):\n",
    "\n",
    "    bmw_train, bmw_test = train_test_split(bmw_selected, test_size=0.1, random_state=42)\n",
    "\n",
    "    model.fit(*split_dependent(bmw_train, dependent=dependent))\n",
    "\n",
    "    X_test, y_test = split_dependent(bmw_test.sort_values(\"mileage\"), dependent=dependent)\n",
    "\n",
    "    y_predict = model.predict(X_test)\n",
    "\n",
    "    # The mean squared error\n",
    "    print('Mean squared error: %.2f'\n",
    "          % mean_squared_error(y_predict, y_test))\n",
    "    # The coefficient of determination: 1 is perfect prediction\n",
    "    print('Coefficient of determination: %.2f'\n",
    "          % r2_score(y_predict, y_test))\n",
    "\n",
    "    sns.scatterplot(x=y_test, y=y_predict, alpha=0.5)\n",
    "    plt.show()\n",
    "    return X_test.columns, model\n"
   ]
  },
  {
   "cell_type": "code",
   "execution_count": null,
   "id": "8df8833d",
   "metadata": {
    "scrolled": false
   },
   "outputs": [],
   "source": [
    "bmw_selected = bmw_copy[[\"ln price\", \"year\", \"mileage\"]]\n",
    "fit_and_test_linear_model(bmw_selected)"
   ]
  },
  {
   "cell_type": "code",
   "execution_count": null,
   "id": "cae4cfc2",
   "metadata": {
    "scrolled": false
   },
   "outputs": [],
   "source": [
    "bmw_selected = bmw_copy[[\"ln price\", \"mileage\"] + new_car_cols]\n",
    "bmw_selected = pd.get_dummies(bmw_selected, drop_first=True)\n",
    "fit_and_test_linear_model(bmw_selected)"
   ]
  },
  {
   "cell_type": "code",
   "execution_count": null,
   "id": "a6d6ccad",
   "metadata": {},
   "outputs": [],
   "source": [
    "bmw_selected = pd.get_dummies(bmw_copy, drop_first=True)\n",
    "fit_and_test_linear_model(bmw_selected)"
   ]
  },
  {
   "cell_type": "code",
   "execution_count": null,
   "id": "7b666dda",
   "metadata": {},
   "outputs": [],
   "source": [
    "from sklearn.ensemble import GradientBoostingRegressor\n",
    "gbr = GradientBoostingRegressor()\n",
    "bmw_selected = bmw_copy[[\"ln price\", \"mileage\"] + new_car_cols]\n",
    "bmw_selected = pd.get_dummies(bmw_selected, drop_first=True)\n",
    "fit_and_test_model(bmw_selected, gbr)"
   ]
  },
  {
   "cell_type": "code",
   "execution_count": null,
   "id": "be30d144",
   "metadata": {},
   "outputs": [],
   "source": []
  }
 ],
 "metadata": {
  "kernelspec": {
   "display_name": "Python 3",
   "language": "python",
   "name": "python3"
  },
  "language_info": {
   "codemirror_mode": {
    "name": "ipython",
    "version": 3
   },
   "file_extension": ".py",
   "mimetype": "text/x-python",
   "name": "python",
   "nbconvert_exporter": "python",
   "pygments_lexer": "ipython3",
   "version": "3.9.2"
  }
 },
 "nbformat": 4,
 "nbformat_minor": 5
}
